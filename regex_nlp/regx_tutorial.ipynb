{
 "cells": [
  {
   "cell_type": "code",
   "execution_count": 15,
   "id": "e612b5ca",
   "metadata": {},
   "outputs": [
    {
     "name": "stderr",
     "output_type": "stream",
     "text": [
      "<>:7: SyntaxWarning: invalid escape sequence '\\.'\n",
      "<>:7: SyntaxWarning: invalid escape sequence '\\.'\n",
      "/var/folders/4b/h50tl3k17qj208mf43lhlcjw0000gn/T/ipykernel_86414/1883481032.py:7: SyntaxWarning: invalid escape sequence '\\.'\n",
      "  pattern = '[a-z0-9A-Z_]*@[a-z0-9A-Z]*\\.[a-z0-9A-Z]*'\n"
     ]
    },
    {
     "data": {
      "text/plain": [
       "'abc@xyz.com'"
      ]
     },
     "execution_count": 15,
     "metadata": {},
     "output_type": "execute_result"
    }
   ],
   "source": [
    "import re\n",
    "\n",
    "chat1 = 'codebasics: you ask a lot of questions 1235678912, abc@xyz.com, 9999565745'\n",
    "chat2 = 'codebasics here it is (123)-567-8912, abc@xyz.com'\n",
    "chat3 = 'codebasics:yes, phone: = 12345678912 email: abc@xyz.com'\n",
    "\n",
    "pattern = '[a-z0-9A-Z_]*@[a-z0-9A-Z]*\\.[a-z0-9A-Z]*'\n",
    "matches = re.findall(pattern, chat3)\n",
    "email = matches [0]\n",
    "email"
   ]
  },
  {
   "cell_type": "code",
   "execution_count": 32,
   "id": "9e2b888d",
   "metadata": {},
   "outputs": [
    {
     "name": "stderr",
     "output_type": "stream",
     "text": [
      "<>:7: SyntaxWarning: invalid escape sequence '\\d'\n",
      "<>:7: SyntaxWarning: invalid escape sequence '\\d'\n",
      "/var/folders/4b/h50tl3k17qj208mf43lhlcjw0000gn/T/ipykernel_86414/549223205.py:7: SyntaxWarning: invalid escape sequence '\\d'\n",
      "  pattern = 'order[^\\d]*(\\d*)'\n"
     ]
    },
    {
     "data": {
      "text/plain": [
       "'4128899912'"
      ]
     },
     "execution_count": 32,
     "metadata": {},
     "output_type": "execute_result"
    }
   ],
   "source": [
    "import re \n",
    "\n",
    "chat1 = 'codebasics: Hello, I am having an issue with my order #4128899912 '\n",
    "chat2 = 'codebasics: I have a problem with my order number 4128899912'\n",
    "chat3 = 'codebasics: My order 4128899912 is having issues, I was charged 300$ when online it was 200$'\n",
    "\n",
    "pattern = 'order[^\\d]*(\\d*)'\n",
    "matches = re.findall(pattern, chat3)\n",
    "order_number = matches [0]\n",
    "order_number"
   ]
  },
  {
   "cell_type": "code",
   "execution_count": null,
   "id": "4995ff6a",
   "metadata": {},
   "outputs": [
    {
     "name": "stderr",
     "output_type": "stream",
     "text": [
      "<>:54: SyntaxWarning: invalid escape sequence '\\d'\n",
      "<>:54: SyntaxWarning: invalid escape sequence '\\d'\n",
      "/var/folders/4b/h50tl3k17qj208mf43lhlcjw0000gn/T/ipykernel_86414/3291411177.py:54: SyntaxWarning: invalid escape sequence '\\d'\n",
      "  pattern = 'Born(.*)\\n\\aged (\\d+)'\n"
     ]
    },
    {
     "data": {
      "text/plain": [
       "'36'"
      ]
     },
     "execution_count": 19,
     "metadata": {},
     "output_type": "execute_result"
    }
   ],
   "source": [
    "import re\n",
    "\n",
    "bobMarley = '''\n",
    "Born\tRobert Nesta Marley\n",
    "\n",
    "6 February 1945\n",
    "Nine Mile, Saint Ann, Colony of Jamaica\n",
    "Died\t11 May 1981 (aged 36)\n",
    "Miami, Florida, US\n",
    "Resting place\tBob Marley Mausoleum, Nine Mile, Saint Ann Parish, Jamaica\n",
    "Other names\t\n",
    "\n",
    "    Berhane Selassie Skip Tuff Gong\n",
    "\n",
    "Occupations\t\n",
    "\n",
    "    Singer songwriter guitarist\n",
    "\n",
    "Years active\t1962–1980\n",
    "Spouse\tRita Marley\n",
    "​\n",
    "(m. 1966)​\n",
    "Children\t11, including:\n",
    "\n",
    "    SharonCedellaDavid \"Ziggy\"StephenRohanJulianKy-ManiDamian\n",
    "\n",
    "Parent(s)\tNorval Sinclair Marley (father)\n",
    "Cedella Booker (mother)\n",
    "Relatives\t\n",
    "\n",
    "    Skip Marley (grandson)\n",
    "    YG Marley (grandson)\n",
    "    Nico Marley (grandson)\n",
    "    Jo Mersa Marley (grandson)\n",
    "    Bambaata Marley (grandson)\n",
    "    Selah Marley (granddaughter)\n",
    "\n",
    "Musical career\n",
    "Genres\t\n",
    "\n",
    "    Reggae ska rocksteady folk[1]\n",
    "\n",
    "Instruments\t\n",
    "\n",
    "    Vocals guitar\n",
    "\n",
    "Labels\t\n",
    "\n",
    "    Beverley's Studio One JAD Wail'n Soul'm Upsetter Tuff Gong Island\n",
    "\n",
    "Formerly of\tThe Wailers\n",
    "Website\tbobmarley.com\n",
    "'''\n",
    "pattern = 'aged (\\d+)'\n",
    "maches = re.findall(pattern, bobMarley)\n",
    "age = matches[0]\n",
    "age"
   ]
  },
  {
   "cell_type": "code",
   "execution_count": null,
   "id": "4ee05cde",
   "metadata": {},
   "outputs": [
    {
     "data": {
      "text/plain": [
       "'Robert Nesta Marley'"
      ]
     },
     "execution_count": 24,
     "metadata": {},
     "output_type": "execute_result"
    }
   ],
   "source": [
    "#name\n",
    "import re\n",
    "\n",
    "bobMarley = '''\n",
    "Born\tRobert Nesta Marley\n",
    "\n",
    "6 February 1945\n",
    "Nine Mile, Saint Ann, Colony of Jamaica\n",
    "Died\t11 May 1981 (aged 36)\n",
    "Miami, Florida, US\n",
    "Resting place\tBob Marley Mausoleum, Nine Mile, Saint Ann Parish, Jamaica\n",
    "Other names\t\n",
    "\n",
    "    Berhane Selassie Skip Tuff Gong\n",
    "\n",
    "Occupations\t\n",
    "\n",
    "    Singer songwriter guitarist\n",
    "\n",
    "Years active\t1962–1980\n",
    "Spouse\tRita Marley\n",
    "​\n",
    "(m. 1966)​\n",
    "Children\t11, including:\n",
    "\n",
    "    SharonCedellaDavid \"Ziggy\"StephenRohanJulianKy-ManiDamian\n",
    "\n",
    "Parent(s)\tNorval Sinclair Marley (father)\n",
    "Cedella Booker (mother)\n",
    "Relatives\t\n",
    "\n",
    "    Skip Marley (grandson)\n",
    "    YG Marley (grandson)\n",
    "    Nico Marley (grandson)\n",
    "    Jo Mersa Marley (grandson)\n",
    "    Bambaata Marley (grandson)\n",
    "    Selah Marley (granddaughter)\n",
    "\n",
    "Musical career\n",
    "Genres\t\n",
    "\n",
    "    Reggae ska rocksteady folk[1]\n",
    "\n",
    "Instruments\t\n",
    "\n",
    "    Vocals guitar\n",
    "\n",
    "Labels\t\n",
    "\n",
    "    Beverley's Studio One JAD Wail'n Soul'm Upsetter Tuff Gong Island\n",
    "\n",
    "Formerly of\tThe Wailers\n",
    "Website\tbobmarley.com\n",
    "'''\n",
    "pattern = 'Born(.*)'\n",
    "matches = re.findall(pattern, bobMarley)\n",
    "matches[0].strip()"
   ]
  },
  {
   "cell_type": "code",
   "execution_count": 26,
   "id": "04bc7e96",
   "metadata": {},
   "outputs": [
    {
     "data": {
      "text/plain": [
       "'6 February 1945'"
      ]
     },
     "execution_count": 26,
     "metadata": {},
     "output_type": "execute_result"
    }
   ],
   "source": [
    "#Year of birth\n",
    "#name\n",
    "import re\n",
    "\n",
    "bobMarley = '''\n",
    "Born\tRobert Nesta Marley\n",
    "6 February 1945\n",
    "Nine Mile, Saint Ann, Colony of Jamaica\n",
    "Died\t11 May 1981 (aged 36)\n",
    "Miami, Florida, US\n",
    "Resting place\tBob Marley Mausoleum, Nine Mile, Saint Ann Parish, Jamaica\n",
    "Other names\t\n",
    "\n",
    "    Berhane Selassie Skip Tuff Gong\n",
    "\n",
    "Occupations\t\n",
    "\n",
    "    Singer songwriter guitarist\n",
    "\n",
    "Years active\t1962–1980\n",
    "Spouse\tRita Marley\n",
    "​\n",
    "(m. 1966)​\n",
    "Children\t11, including:\n",
    "\n",
    "    SharonCedellaDavid \"Ziggy\"StephenRohanJulianKy-ManiDamian\n",
    "\n",
    "Parent(s)\tNorval Sinclair Marley (father)\n",
    "Cedella Booker (mother)\n",
    "Relatives\t\n",
    "\n",
    "    Skip Marley (grandson)\n",
    "    YG Marley (grandson)\n",
    "    Nico Marley (grandson)\n",
    "    Jo Mersa Marley (grandson)\n",
    "    Bambaata Marley (grandson)\n",
    "    Selah Marley (granddaughter)\n",
    "\n",
    "Musical career\n",
    "Genres\t\n",
    "\n",
    "    Reggae ska rocksteady folk[1]\n",
    "\n",
    "Instruments\t\n",
    "\n",
    "    Vocals guitar\n",
    "\n",
    "Labels\t\n",
    "\n",
    "    Beverley's Studio One JAD Wail'n Soul'm Upsetter Tuff Gong Island\n",
    "\n",
    "Formerly of\tThe Wailers\n",
    "Website\tbobmarley.com\n",
    "'''\n",
    "pattern = 'Born.*\\n(.*)'\n",
    "matches = re.findall(pattern, bobMarley)\n",
    "matches[0].strip()"
   ]
  },
  {
   "cell_type": "code",
   "execution_count": 28,
   "id": "3419b7a2",
   "metadata": {},
   "outputs": [
    {
     "data": {
      "text/plain": [
       "'Nine Mile, Saint Ann, Colony of Jamaica'"
      ]
     },
     "execution_count": 28,
     "metadata": {},
     "output_type": "execute_result"
    }
   ],
   "source": [
    "#Birth place\n",
    "#Year of birth\n",
    "#name\n",
    "import re\n",
    "\n",
    "bobMarley = '''\n",
    "Born\tRobert Nesta Marley\n",
    "6 February 1945\n",
    "Nine Mile, Saint Ann, Colony of Jamaica\n",
    "Died\t11 May 1981 (aged 36)\n",
    "Miami, Florida, US\n",
    "Resting place\tBob Marley Mausoleum, Nine Mile, Saint Ann Parish, Jamaica\n",
    "Other names\t\n",
    "\n",
    "    Berhane Selassie Skip Tuff Gong\n",
    "\n",
    "Occupations\t\n",
    "\n",
    "    Singer songwriter guitarist\n",
    "\n",
    "Years active\t1962–1980\n",
    "Spouse\tRita Marley\n",
    "​\n",
    "(m. 1966)​\n",
    "Children\t11, including:\n",
    "\n",
    "    SharonCedellaDavid \"Ziggy\"StephenRohanJulianKy-ManiDamian\n",
    "\n",
    "Parent(s)\tNorval Sinclair Marley (father)\n",
    "Cedella Booker (mother)\n",
    "Relatives\t\n",
    "\n",
    "    Skip Marley (grandson)\n",
    "    YG Marley (grandson)\n",
    "    Nico Marley (grandson)\n",
    "    Jo Mersa Marley (grandson)\n",
    "    Bambaata Marley (grandson)\n",
    "    Selah Marley (granddaughter)\n",
    "\n",
    "Musical career\n",
    "Genres\t\n",
    "\n",
    "    Reggae ska rocksteady folk[1]\n",
    "\n",
    "Instruments\t\n",
    "\n",
    "    Vocals guitar\n",
    "\n",
    "Labels\t\n",
    "\n",
    "    Beverley's Studio One JAD Wail'n Soul'm Upsetter Tuff Gong Island\n",
    "\n",
    "Formerly of\tThe Wailers\n",
    "Website\tbobmarley.com\n",
    "'''\n",
    "pattern = 'Born.*\\n.*\\n(.*)'\n",
    "matches = re.findall(pattern, bobMarley)\n",
    "matches[0].strip()"
   ]
  },
  {
   "cell_type": "code",
   "execution_count": 31,
   "id": "dd59039d",
   "metadata": {},
   "outputs": [
    {
     "name": "stderr",
     "output_type": "stream",
     "text": [
      "<>:65: SyntaxWarning: invalid escape sequence '\\d'\n",
      "<>:65: SyntaxWarning: invalid escape sequence '\\d'\n",
      "/var/folders/4b/h50tl3k17qj208mf43lhlcjw0000gn/T/ipykernel_86414/2597600195.py:65: SyntaxWarning: invalid escape sequence '\\d'\n",
      "  age = get_pattern_match('aged (\\d+)', bobMarley)\n"
     ]
    },
    {
     "data": {
      "text/plain": [
       "{'age': 36,\n",
       " 'full_name': 'Robert Nesta Marley',\n",
       " 'birth_date': '6 February 1945',\n",
       " 'birth_place': 'Nine Mile, Saint Ann, Colony of Jamaica'}"
      ]
     },
     "execution_count": 31,
     "metadata": {},
     "output_type": "execute_result"
    }
   ],
   "source": [
    "#Making the code cleaner\n",
    "#Birth place\n",
    "#Year of birth\n",
    "#name\n",
    "import re\n",
    "\n",
    "bobMarley = '''\n",
    "Born\tRobert Nesta Marley\n",
    "6 February 1945\n",
    "Nine Mile, Saint Ann, Colony of Jamaica\n",
    "Died\t11 May 1981 (aged 36)\n",
    "Miami, Florida, US\n",
    "Resting place\tBob Marley Mausoleum, Nine Mile, Saint Ann Parish, Jamaica\n",
    "Other names\t\n",
    "\n",
    "    Berhane Selassie Skip Tuff Gong\n",
    "\n",
    "Occupations\t\n",
    "\n",
    "    Singer songwriter guitarist\n",
    "\n",
    "Years active\t1962–1980\n",
    "Spouse\tRita Marley\n",
    "​\n",
    "(m. 1966)​\n",
    "Children\t11, including:\n",
    "\n",
    "    SharonCedellaDavid \"Ziggy\"StephenRohanJulianKy-ManiDamian\n",
    "\n",
    "Parent(s)\tNorval Sinclair Marley (father)\n",
    "Cedella Booker (mother)\n",
    "Relatives\t\n",
    "\n",
    "    Skip Marley (grandson)\n",
    "    YG Marley (grandson)\n",
    "    Nico Marley (grandson)\n",
    "    Jo Mersa Marley (grandson)\n",
    "    Bambaata Marley (grandson)\n",
    "    Selah Marley (granddaughter)\n",
    "\n",
    "Musical career\n",
    "Genres\t\n",
    "\n",
    "    Reggae ska rocksteady folk[1]\n",
    "\n",
    "Instruments\t\n",
    "\n",
    "    Vocals guitar\n",
    "\n",
    "Labels\t\n",
    "\n",
    "    Beverley's Studio One JAD Wail'n Soul'm Upsetter Tuff Gong Island\n",
    "\n",
    "Formerly of\tThe Wailers\n",
    "Website\tbobmarley.com\n",
    "'''\n",
    "\n",
    "def get_pattern_match(pattern, bobMarley):\n",
    "    matches = re.findall(pattern, bobMarley)\n",
    "    if matches:\n",
    "        return matches [0]\n",
    "get_pattern_match('Born.*\\n.*\\n(.*)', bobMarley)\n",
    "\n",
    "def get_personal_information(text):\n",
    "    age = get_pattern_match('aged (\\d+)', bobMarley)\n",
    "    full_name = get_pattern_match('Born(.*)', bobMarley)\n",
    "    birth_date = get_pattern_match('Born.*\\n(.*)', bobMarley)\n",
    "    birth_place = get_pattern_match('Born.*\\n.*\\n(.*)', bobMarley)\n",
    "    \n",
    "    return{\n",
    "        'age': int(age),\n",
    "        'full_name': full_name.strip(),\n",
    "        'birth_date': birth_date.strip(),\n",
    "        'birth_place': birth_place.strip()\n",
    "    }\n",
    "\n",
    "get_personal_information(bobMarley)\n"
   ]
  }
 ],
 "metadata": {
  "kernelspec": {
   "display_name": "Python 3",
   "language": "python",
   "name": "python3"
  },
  "language_info": {
   "codemirror_mode": {
    "name": "ipython",
    "version": 3
   },
   "file_extension": ".py",
   "mimetype": "text/x-python",
   "name": "python",
   "nbconvert_exporter": "python",
   "pygments_lexer": "ipython3",
   "version": "3.13.3"
  }
 },
 "nbformat": 4,
 "nbformat_minor": 5
}
