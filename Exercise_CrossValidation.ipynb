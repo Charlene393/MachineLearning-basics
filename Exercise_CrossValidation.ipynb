{
  "nbformat": 4,
  "nbformat_minor": 0,
  "metadata": {
    "colab": {
      "provenance": [],
      "authorship_tag": "ABX9TyMHcVH5uLmxWCCNz4CHFS99",
      "include_colab_link": true
    },
    "kernelspec": {
      "name": "python3",
      "display_name": "Python 3"
    },
    "language_info": {
      "name": "python"
    }
  },
  "cells": [
    {
      "cell_type": "markdown",
      "metadata": {
        "id": "view-in-github",
        "colab_type": "text"
      },
      "source": [
        "<a href=\"https://colab.research.google.com/github/Charlene393/MachineLearning-basics/blob/main/Exercise_CrossValidation.ipynb\" target=\"_parent\"><img src=\"https://colab.research.google.com/assets/colab-badge.svg\" alt=\"Open In Colab\"/></a>"
      ]
    },
    {
      "cell_type": "code",
      "execution_count": null,
      "metadata": {
        "id": "p8Ul9sAprl45"
      },
      "outputs": [],
      "source": [
        "'''\n",
        "Using the iris dataset on the various classification models and use cross_val score to measure the score\n",
        "'''"
      ]
    },
    {
      "cell_type": "code",
      "source": [
        "from sklearn.datasets import load_iris\n",
        "from sklearn.model_selection import cross_val_score\n",
        "from sklearn.linear_model import LogisticRegression\n",
        "from sklearn.svm import SVC\n",
        "from sklearn.tree import DecisionTreeClassifier\n",
        "from sklearn.ensemble import RandomForestClassifier\n",
        "import numpy as np\n",
        "import pandas as pd\n",
        "iris = load_iris()\n",
        "dir(iris)\n"
      ],
      "metadata": {
        "colab": {
          "base_uri": "https://localhost:8080/"
        },
        "id": "PzTbc5a2etBk",
        "outputId": "c368faf8-4347-4ebf-8324-2a9cbb112a18"
      },
      "execution_count": 13,
      "outputs": [
        {
          "output_type": "execute_result",
          "data": {
            "text/plain": [
              "['DESCR',\n",
              " 'data',\n",
              " 'data_module',\n",
              " 'feature_names',\n",
              " 'filename',\n",
              " 'frame',\n",
              " 'target',\n",
              " 'target_names']"
            ]
          },
          "metadata": {},
          "execution_count": 13
        }
      ]
    },
    {
      "cell_type": "code",
      "source": [
        "l_scores = cross_val_score(LogisticRegression(), iris.data, iris.target)\n",
        "l_scores"
      ],
      "metadata": {
        "id": "ZoL4ETA-moy_",
        "colab": {
          "base_uri": "https://localhost:8080/"
        },
        "outputId": "6e9bbc5a-4ca4-4488-a2ae-efdc54900a32"
      },
      "execution_count": 8,
      "outputs": [
        {
          "output_type": "stream",
          "name": "stderr",
          "text": [
            "/usr/local/lib/python3.11/dist-packages/sklearn/linear_model/_logistic.py:465: ConvergenceWarning: lbfgs failed to converge (status=1):\n",
            "STOP: TOTAL NO. OF ITERATIONS REACHED LIMIT.\n",
            "\n",
            "Increase the number of iterations (max_iter) or scale the data as shown in:\n",
            "    https://scikit-learn.org/stable/modules/preprocessing.html\n",
            "Please also refer to the documentation for alternative solver options:\n",
            "    https://scikit-learn.org/stable/modules/linear_model.html#logistic-regression\n",
            "  n_iter_i = _check_optimize_result(\n"
          ]
        },
        {
          "output_type": "execute_result",
          "data": {
            "text/plain": [
              "array([0.96666667, 1.        , 0.93333333, 0.96666667, 1.        ])"
            ]
          },
          "metadata": {},
          "execution_count": 8
        }
      ]
    },
    {
      "cell_type": "code",
      "source": [
        "np.average(l_scores)"
      ],
      "metadata": {
        "id": "0iXdv1Y6lF7q",
        "colab": {
          "base_uri": "https://localhost:8080/"
        },
        "outputId": "8e40e8f3-c437-4f56-919d-de31889677c5"
      },
      "execution_count": 9,
      "outputs": [
        {
          "output_type": "execute_result",
          "data": {
            "text/plain": [
              "np.float64(0.9733333333333334)"
            ]
          },
          "metadata": {},
          "execution_count": 9
        }
      ]
    },
    {
      "cell_type": "code",
      "source": [
        "s_scores = cross_val_score(SVC(), iris.data, iris.target)\n",
        "s_scores\n",
        "np.average(s_scores)"
      ],
      "metadata": {
        "id": "Ap0eUwFRhWLV",
        "colab": {
          "base_uri": "https://localhost:8080/"
        },
        "outputId": "2bc1ddf0-007c-48a5-ee41-d3b177320993"
      },
      "execution_count": 10,
      "outputs": [
        {
          "output_type": "execute_result",
          "data": {
            "text/plain": [
              "np.float64(0.9666666666666666)"
            ]
          },
          "metadata": {},
          "execution_count": 10
        }
      ]
    },
    {
      "cell_type": "code",
      "source": [
        "Rf_scores = cross_val_score(RandomForestClassifier(n_estimators=30), iris.data, iris.target)\n",
        "Rf_scores\n",
        "np.average(Rf_scores)"
      ],
      "metadata": {
        "id": "My3XYwpCk51M",
        "colab": {
          "base_uri": "https://localhost:8080/"
        },
        "outputId": "c411fd99-59a5-435c-c33f-ed8dfcd7796c"
      },
      "execution_count": 11,
      "outputs": [
        {
          "output_type": "execute_result",
          "data": {
            "text/plain": [
              "np.float64(0.9533333333333334)"
            ]
          },
          "metadata": {},
          "execution_count": 11
        }
      ]
    },
    {
      "cell_type": "code",
      "source": [
        "dt_scores = cross_val_score(DecisionTreeClassifier(), iris.data, iris.target)\n",
        "dt_scores\n",
        "np.average(dt_scores)"
      ],
      "metadata": {
        "colab": {
          "base_uri": "https://localhost:8080/"
        },
        "id": "VH4AADear-18",
        "outputId": "29032014-8fc2-46f0-aab7-1e10f54396a7"
      },
      "execution_count": 14,
      "outputs": [
        {
          "output_type": "execute_result",
          "data": {
            "text/plain": [
              "np.float64(0.9533333333333334)"
            ]
          },
          "metadata": {},
          "execution_count": 14
        }
      ]
    }
  ]
}