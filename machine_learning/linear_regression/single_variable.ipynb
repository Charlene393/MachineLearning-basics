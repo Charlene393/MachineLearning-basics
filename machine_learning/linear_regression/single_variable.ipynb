{
 "cells": [
  {
   "cell_type": "code",
   "execution_count": 1,
   "id": "862b3085",
   "metadata": {},
   "outputs": [],
   "source": [
    "import csv \n",
    "data =[\n",
    "    [\"Area\", \"Price\"],\n",
    "    [2600, 550000],\n",
    "    [3000, 565000],\n",
    "    [3200, 610000],\n",
    "    [3600, 680000],\n",
    "    [4000, 725000]\n",
    "]\n",
    "with open(\"homeprice.csv\", \"w\", newline= \"\")as file:\n",
    "  writer = csv.writer(file)\n",
    "  writer.writerows(data)"
   ]
  },
  {
   "cell_type": "code",
   "execution_count": null,
   "id": "1ac05911",
   "metadata": {},
   "outputs": [
    {
     "ename": "ModuleNotFoundError",
     "evalue": "No module named 'pandas'",
     "output_type": "error",
     "traceback": [
      "\u001b[31m---------------------------------------------------------------------------\u001b[39m",
      "\u001b[31mModuleNotFoundError\u001b[39m                       Traceback (most recent call last)",
      "\u001b[36mCell\u001b[39m\u001b[36m \u001b[39m\u001b[32mIn[1]\u001b[39m\u001b[32m, line 1\u001b[39m\n\u001b[32m----> \u001b[39m\u001b[32m1\u001b[39m \u001b[38;5;28;01mimport\u001b[39;00m\u001b[38;5;250m \u001b[39m\u001b[34;01mpandas\u001b[39;00m\u001b[38;5;250m \u001b[39m\u001b[38;5;28;01mas\u001b[39;00m\u001b[38;5;250m \u001b[39m\u001b[34;01mpd\u001b[39;00m\n\u001b[32m      2\u001b[39m \u001b[38;5;28;01mimport\u001b[39;00m\u001b[38;5;250m \u001b[39m\u001b[34;01mnumpy\u001b[39;00m\u001b[38;5;250m \u001b[39m\u001b[38;5;28;01mas\u001b[39;00m\u001b[38;5;250m \u001b[39m\u001b[34;01mnp\u001b[39;00m\n\u001b[32m      3\u001b[39m \u001b[38;5;28;01mimport\u001b[39;00m\u001b[38;5;250m \u001b[39m\u001b[34;01mmatplotlib\u001b[39;00m\u001b[34;01m.\u001b[39;00m\u001b[34;01mpyplot\u001b[39;00m\u001b[38;5;250m \u001b[39m\u001b[38;5;28;01mas\u001b[39;00m\u001b[38;5;250m \u001b[39m\u001b[34;01mplt\u001b[39;00m\n",
      "\u001b[31mModuleNotFoundError\u001b[39m: No module named 'pandas'"
     ]
    }
   ],
   "source": [
    "import pandas as pd\n",
    "import numpy as np\n",
    "import matplotlib.pyplot as plt\n",
    "from sklearn import linear_model\n",
    "\n",
    "df = pd.read_csv(\"homeprice.csv\")\n",
    "df\n",
    "\n",
    "plt.xlabel('area (sq ft)')\n",
    "plt.ylabel('price (us$)')\n",
    "plt.scatter(df.Area, df.Price, color = 'red', marker ='*')\n",
    "plt.plot(df.Area, reg.predict(df[['Area']]), color = 'purple')\n",
    "\n",
    "#FITTING THE DATA\n",
    "reg = linear_model.LinearRegression()\n",
    "reg.fit(df[['Area']], df.Price)\n",
    "\n",
    "#prediction\n",
    "#y=mx+b this formula is used for prediction of linear regression\n",
    "\n",
    "reg.predict([[3300]])# x\n",
    "reg.coef_ #m\n",
    "reg.intercept_#b"
   ]
  },
  {
   "cell_type": "code",
   "execution_count": null,
   "id": "43ea06a0",
   "metadata": {},
   "outputs": [],
   "source": [
    "import csv\n",
    "data=[\n",
    "    [\"Area\"],\n",
    "    [1000],\n",
    "    [2300],\n",
    "    [3540],\n",
    "    [4120],\n",
    "    [4560],\n",
    "    [5490],\n",
    "    [3460],\n",
    "    [4750],\n",
    "    [2300],\n",
    "    [9000],\n",
    "    [8600],\n",
    "    [7100]\n",
    "]\n",
    "with open(\"area.csv\", \"w\", newline= \"\")as file:\n",
    "  writer = csv.writer(file)\n",
    "  writer.writerows(data)"
   ]
  },
  {
   "cell_type": "code",
   "execution_count": null,
   "id": "3678b5fc",
   "metadata": {},
   "outputs": [],
   "source": [
    "\n",
    "df = pd.read_csv(\"area.csv\")\n",
    "df.head(3)\n",
    "\n",
    "p = reg.predict(df)\n",
    "df['Price'] = p\n",
    "df.to_csv(\"Predict.csv\")"
   ]
  }
 ],
 "metadata": {
  "kernelspec": {
   "display_name": "Python 3",
   "language": "python",
   "name": "python3"
  },
  "language_info": {
   "codemirror_mode": {
    "name": "ipython",
    "version": 3
   },
   "file_extension": ".py",
   "mimetype": "text/x-python",
   "name": "python",
   "nbconvert_exporter": "python",
   "pygments_lexer": "ipython3",
   "version": "3.13.3"
  }
 },
 "nbformat": 4,
 "nbformat_minor": 5
}
